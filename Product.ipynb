{
 "cells": [
  {
   "cell_type": "code",
   "execution_count": null,
   "id": "067058d1-7f89-47d2-9f14-18c7ee6ab80e",
   "metadata": {},
   "outputs": [],
   "source": [
    "import numpy as np\n",
    "import pandas as pd\n",
    "import matplotlib.pyplot as plt\n",
    "import seaborn as sns"
   ]
  },
  {
   "cell_type": "code",
   "execution_count": null,
   "id": "a56757c1-8112-49d4-92d7-b6a22996a7ab",
   "metadata": {},
   "outputs": [],
   "source": [
    "product = pd.read_excel(\"Product.xlsx\")\n",
    "product"
   ]
  },
  {
   "cell_type": "code",
   "execution_count": null,
   "id": "540887d9-96a5-4115-82d9-35e8cfbc807b",
   "metadata": {},
   "outputs": [],
   "source": [
    "product.isnull().sum()"
   ]
  },
  {
   "cell_type": "code",
   "execution_count": null,
   "id": "ac3f3ad3-c0d5-46ba-ba8c-4609c0dd3201",
   "metadata": {},
   "outputs": [],
   "source": [
    "product['ID'].nunique()"
   ]
  },
  {
   "cell_type": "code",
   "execution_count": null,
   "id": "6cfc4266-398c-457c-8218-b03df5a1e7e9",
   "metadata": {},
   "outputs": [],
   "source": [
    "product['ProductName'].nunique()"
   ]
  },
  {
   "cell_type": "code",
   "execution_count": null,
   "id": "751daba1-02df-4f1c-839f-132317072be3",
   "metadata": {},
   "outputs": [],
   "source": [
    "product['ProductGroup'].nunique()"
   ]
  },
  {
   "cell_type": "code",
   "execution_count": null,
   "id": "b5a96b68-c039-46a0-ba5f-e61755166726",
   "metadata": {},
   "outputs": [],
   "source": [
    "product['ProductGroup'].value_counts()"
   ]
  },
  {
   "cell_type": "code",
   "execution_count": null,
   "id": "01f77ed1-c57b-4642-9ef7-3a1f34cb537d",
   "metadata": {},
   "outputs": [],
   "source": [
    "product['ProductCategory'].nunique()"
   ]
  },
  {
   "cell_type": "code",
   "execution_count": null,
   "id": "e0cc2b17-b872-4d4b-b8d4-f63070820fdd",
   "metadata": {},
   "outputs": [],
   "source": [
    "product['ProductCategory'].value_counts()"
   ]
  },
  {
   "cell_type": "markdown",
   "id": "7ed365d0-33ba-4892-ab66-71adef3620e8",
   "metadata": {},
   "source": [
    "- continous\n",
    "- categorical\n",
    "- count"
   ]
  },
  {
   "cell_type": "code",
   "execution_count": null,
   "id": "1a85f410-1c98-4eb4-8c2b-8a8179da66eb",
   "metadata": {},
   "outputs": [],
   "source": [
    "product.info()"
   ]
  },
  {
   "cell_type": "code",
   "execution_count": null,
   "id": "906ce9f7-8051-4eb2-860d-a6f06eb0e63d",
   "metadata": {},
   "outputs": [],
   "source": [
    "categorical = ['ProductName', 'ProductGroup', 'ProductCategory']\n",
    "count = ['ID']"
   ]
  },
  {
   "cell_type": "code",
   "execution_count": null,
   "id": "f35dd183-123e-43d4-8e64-c65627b5ee43",
   "metadata": {},
   "outputs": [],
   "source": [
    "product[categorical].describe()"
   ]
  },
  {
   "cell_type": "markdown",
   "id": "3d253d0e-9eb9-4d3f-ae22-9f9bd685aa78",
   "metadata": {},
   "source": [
    "\n"
   ]
  },
  {
   "cell_type": "markdown",
   "id": "d3c01bf6-ed74-4e1c-b487-40bdee6f9dca",
   "metadata": {},
   "source": [
    "---\n",
    "\n",
    "### **Data Analysis**\n",
    "\n",
    "* **Top Product Category**: Food\n",
    "* **Top Product Group**: Oil\n",
    "\n",
    "---"
   ]
  },
  {
   "cell_type": "code",
   "execution_count": null,
   "id": "9bac75a1-4918-4e41-84c3-02c6e1c18b65",
   "metadata": {},
   "outputs": [],
   "source": []
  }
 ],
 "metadata": {
  "kernelspec": {
   "display_name": "Python 3 (ipykernel)",
   "language": "python",
   "name": "python3"
  },
  "language_info": {
   "codemirror_mode": {
    "name": "ipython",
    "version": 3
   },
   "file_extension": ".py",
   "mimetype": "text/x-python",
   "name": "python",
   "nbconvert_exporter": "python",
   "pygments_lexer": "ipython3",
   "version": "3.12.7"
  }
 },
 "nbformat": 4,
 "nbformat_minor": 5
}
