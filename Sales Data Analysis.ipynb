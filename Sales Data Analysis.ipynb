{
 "cells": [
  {
   "cell_type": "code",
   "execution_count": 1,
   "id": "dd9e36f2-c880-47f0-bf17-dfa5b74b191b",
   "metadata": {},
   "outputs": [],
   "source": [
    "import pandas as pd "
   ]
  },
  {
   "cell_type": "code",
   "execution_count": 2,
   "id": "a0cace68-6e21-41f3-ae66-9991573833ae",
   "metadata": {},
   "outputs": [],
   "source": [
    "\n",
    "# Load the datasets\n",
    "sales_df = pd.read_excel(\"SalesData.xlsx\")\n",
    "product_df = pd.read_excel(\"Product.xlsx\")"
   ]
  },
  {
   "cell_type": "code",
   "execution_count": 3,
   "id": "dc1ded65-d663-4425-8339-aab21449783f",
   "metadata": {},
   "outputs": [],
   "source": [
    "# Merge sales and product data\n",
    "merged_df = sales_df.merge(product_df, left_on=\"ProductKey\", right_on=\"ID\")"
   ]
  },
  {
   "cell_type": "code",
   "execution_count": 5,
   "id": "5f1eb494-2859-4c27-b99b-1a100aff98d5",
   "metadata": {},
   "outputs": [],
   "source": [
    "# Calculate total sales value\n",
    "merged_df[\"TotalSales\"] = merged_df[\"Quantity\"] * merged_df[\"UnitPrice\"]"
   ]
  },
  {
   "cell_type": "code",
   "execution_count": 7,
   "id": "93a083c2-fc82-4e20-9770-c42dd7a95888",
   "metadata": {},
   "outputs": [],
   "source": [
    "# Sales distribution by product category\n",
    "category_sales = merged_df.groupby(\"ProductCategory\")[\"TotalSales\"].sum().sort_values(ascending=False)"
   ]
  },
  {
   "cell_type": "code",
   "execution_count": 8,
   "id": "f95e4315-f81a-4d4a-8387-b80c6abc08ef",
   "metadata": {},
   "outputs": [],
   "source": [
    "# Top product by total sales\n",
    "top_product = merged_df.groupby(\"ProductName\")[\"TotalSales\"].sum().sort_values(ascending=False).head(1)"
   ]
  },
  {
   "cell_type": "code",
   "execution_count": 9,
   "id": "54f87f12-16bd-40c9-8ff7-9d5e2049bd0c",
   "metadata": {},
   "outputs": [],
   "source": [
    "# Top category by total sales\n",
    "top_category = category_sales.head(1)\n"
   ]
  },
  {
   "cell_type": "code",
   "execution_count": 10,
   "id": "d9231d31-5c76-42c9-9ed3-c1193b0fc779",
   "metadata": {},
   "outputs": [
    {
     "name": "stdout",
     "output_type": "stream",
     "text": [
      "Sales Distribution by Product Category:\n",
      " ProductCategory\n",
      "Food     16366811.55\n",
      "Drink     1542420.94\n",
      "Name: TotalSales, dtype: float64\n",
      "\n",
      "Top Product:\n",
      " ProductName\n",
      "Product 1968    746302.62\n",
      "Name: TotalSales, dtype: float64\n",
      "\n",
      "Top Category:\n",
      " ProductCategory\n",
      "Food    16366811.55\n",
      "Name: TotalSales, dtype: float64\n"
     ]
    }
   ],
   "source": [
    "# Display results\n",
    "print(\"Sales Distribution by Product Category:\\n\", category_sales)\n",
    "print(\"\\nTop Product:\\n\", top_product)\n",
    "print(\"\\nTop Category:\\n\", top_category)"
   ]
  },
  {
   "cell_type": "markdown",
   "id": "0dfe7f2c-0315-4c38-a56a-6febbabcd406",
   "metadata": {},
   "source": [
    "---\n",
    "\n",
    "### 📊 **Output Summary**\n",
    "\n",
    "**Sales Distribution by Product Category:**\n",
    "\n",
    "* 🍽️ **Food:** \\$16,366,811.55\n",
    "* 🥤 **Drink:** \\$1,542,420.94\n",
    "\n",
    "**Top Product:**\n",
    "\n",
    "* 🏆 Product 1968 — \\$746,302.62\n",
    "\n",
    "**Top Category:**\n",
    "\n",
    "* 🍽️ Food — \\$16,366,811.55\n",
    "\n",
    "---"
   ]
  },
  {
   "cell_type": "code",
   "execution_count": null,
   "id": "d0a9d01c-faf4-4388-b2b1-2b0da577185e",
   "metadata": {},
   "outputs": [],
   "source": []
  }
 ],
 "metadata": {
  "kernelspec": {
   "display_name": "Python 3 (ipykernel)",
   "language": "python",
   "name": "python3"
  },
  "language_info": {
   "codemirror_mode": {
    "name": "ipython",
    "version": 3
   },
   "file_extension": ".py",
   "mimetype": "text/x-python",
   "name": "python",
   "nbconvert_exporter": "python",
   "pygments_lexer": "ipython3",
   "version": "3.12.7"
  }
 },
 "nbformat": 4,
 "nbformat_minor": 5
}
