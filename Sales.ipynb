{
 "cells": [
  {
   "cell_type": "code",
   "execution_count": null,
   "id": "c4a7eebe-88a7-4a8d-863f-77a3afd67124",
   "metadata": {},
   "outputs": [],
   "source": [
    "import numpy as np\n",
    "import pandas as pd\n",
    "import matplotlib.pyplot as plt\n",
    "import seaborn as sns"
   ]
  },
  {
   "cell_type": "code",
   "execution_count": null,
   "id": "2276ee6a-c1f4-4944-b806-09cb5c959942",
   "metadata": {},
   "outputs": [],
   "source": [
    "sales = pd.read_excel('SalesData.xlsx')"
   ]
  },
  {
   "cell_type": "code",
   "execution_count": null,
   "id": "c4fd310f-93ac-4c54-9df2-f080b01e52c0",
   "metadata": {},
   "outputs": [],
   "source": [
    "sales"
   ]
  },
  {
   "cell_type": "code",
   "execution_count": null,
   "id": "3a5ad612-ee6b-4bbb-b8c8-fb00c54efc93",
   "metadata": {},
   "outputs": [],
   "source": [
    "sales.isnull().sum()"
   ]
  },
  {
   "cell_type": "code",
   "execution_count": null,
   "id": "480545d5-9b8a-41ec-a533-d46509c2111e",
   "metadata": {},
   "outputs": [],
   "source": [
    "sales['OrderDate'].nunique()"
   ]
  },
  {
   "cell_type": "code",
   "execution_count": null,
   "id": "8fa95b43-eefb-4465-8429-360ee1bde3f7",
   "metadata": {},
   "outputs": [],
   "source": [
    "sales['OrderDate'].value_counts()"
   ]
  },
  {
   "cell_type": "code",
   "execution_count": null,
   "id": "a2602f68-b445-44e6-b2fa-be92cb502fbb",
   "metadata": {},
   "outputs": [],
   "source": [
    "sales['OrderNumber'].nunique()"
   ]
  },
  {
   "cell_type": "code",
   "execution_count": null,
   "id": "b39e2a7c-581a-45ac-999e-3b977f3d2b5f",
   "metadata": {},
   "outputs": [],
   "source": [
    "sales['OrderNumber'].value_counts()"
   ]
  },
  {
   "cell_type": "code",
   "execution_count": null,
   "id": "a4321ce9-f873-48b2-95e5-104b90a5d7c4",
   "metadata": {},
   "outputs": [],
   "source": [
    "sales['ProductKey'].nunique()"
   ]
  },
  {
   "cell_type": "code",
   "execution_count": null,
   "id": "182f6d23-9ba1-4a1b-b07f-e186fcac626b",
   "metadata": {},
   "outputs": [],
   "source": [
    "sales['ProductKey'].value_counts()"
   ]
  },
  {
   "cell_type": "code",
   "execution_count": null,
   "id": "0687a9ed-8dd7-4f4e-84a5-afdb1fb0b5cf",
   "metadata": {},
   "outputs": [],
   "source": [
    "sales['SalespersonKey'].nunique()"
   ]
  },
  {
   "cell_type": "code",
   "execution_count": null,
   "id": "5b3b20ff-42d3-4e20-9336-fab52ea4e4e1",
   "metadata": {},
   "outputs": [],
   "source": [
    "sales['SalespersonKey'].value_counts()"
   ]
  },
  {
   "cell_type": "code",
   "execution_count": null,
   "id": "dd165040-9989-49f5-a3b5-7b9fc6ef6344",
   "metadata": {},
   "outputs": [],
   "source": [
    "sales['Salesperson'].nunique()"
   ]
  },
  {
   "cell_type": "code",
   "execution_count": null,
   "id": "7cb88f03-c64a-4159-952b-21c94b7f054b",
   "metadata": {},
   "outputs": [],
   "source": [
    "sales['Salesperson'].value_counts()"
   ]
  },
  {
   "cell_type": "code",
   "execution_count": null,
   "id": "3feecc3a-037c-4de6-80a7-ffafdef5314f",
   "metadata": {},
   "outputs": [],
   "source": [
    "sales['Supervisor'].nunique()"
   ]
  },
  {
   "cell_type": "code",
   "execution_count": null,
   "id": "36733ea6-f849-405f-be73-f5ec7050d8a0",
   "metadata": {},
   "outputs": [],
   "source": [
    "sales['Supervisor'].value_counts()"
   ]
  },
  {
   "cell_type": "code",
   "execution_count": null,
   "id": "9cf260fc-3a47-4d0f-a08f-1b8c59fc7e4d",
   "metadata": {},
   "outputs": [],
   "source": [
    "sales['Manager'].nunique()"
   ]
  },
  {
   "cell_type": "code",
   "execution_count": null,
   "id": "86e96a92-0cea-4ae8-8a09-c805c775e22f",
   "metadata": {},
   "outputs": [],
   "source": [
    "sales['Manager'].value_counts()"
   ]
  },
  {
   "cell_type": "code",
   "execution_count": null,
   "id": "7a7c1297-4a15-43ec-8979-d5c9ce42a9a4",
   "metadata": {},
   "outputs": [],
   "source": [
    "sales[['Channel','Quantity','UnitPrice']].nunique()"
   ]
  },
  {
   "cell_type": "code",
   "execution_count": null,
   "id": "ba7183c0-37c8-44cf-a7e3-b74b7fbf4cd4",
   "metadata": {},
   "outputs": [],
   "source": [
    "sales['Channel'].value_counts()"
   ]
  },
  {
   "cell_type": "code",
   "execution_count": null,
   "id": "a38c0011-11db-4e18-a290-918a8ec11014",
   "metadata": {},
   "outputs": [],
   "source": [
    "sales['Quantity'].value_counts()"
   ]
  },
  {
   "cell_type": "code",
   "execution_count": null,
   "id": "54ecbae5-47b3-42ef-9344-27db525c4390",
   "metadata": {},
   "outputs": [],
   "source": [
    "sales['UnitPrice'].value_counts()"
   ]
  },
  {
   "cell_type": "code",
   "execution_count": null,
   "id": "ebbc66ff-d156-4701-8caa-0e04dbf45dd6",
   "metadata": {},
   "outputs": [],
   "source": [
    "sales.info()"
   ]
  },
  {
   "cell_type": "code",
   "execution_count": null,
   "id": "68bb6569-f68c-419b-ae8d-deba5eda328f",
   "metadata": {},
   "outputs": [],
   "source": [
    "continous = ['UnitPrice']\n",
    "count = ['OrderNumber', 'ProductKey', 'SalespersonKey', 'Quantity']\n",
    "categorical = ['Salesperson', 'Supervisor', 'Manager', 'Channel']"
   ]
  },
  {
   "cell_type": "code",
   "execution_count": null,
   "id": "67c646e0-e463-4021-a28f-db4477ab3cee",
   "metadata": {},
   "outputs": [],
   "source": [
    "sales[continous].describe()"
   ]
  },
  {
   "cell_type": "code",
   "execution_count": null,
   "id": "52cb2399-3e36-4fe3-afc9-ee57905ab490",
   "metadata": {},
   "outputs": [],
   "source": [
    "sales[count].describe()"
   ]
  },
  {
   "cell_type": "code",
   "execution_count": null,
   "id": "66ae7fdb-355a-4eaf-acb0-020d519fe2fb",
   "metadata": {},
   "outputs": [],
   "source": [
    "sales[categorical].describe()"
   ]
  },
  {
   "cell_type": "markdown",
   "id": "b98f6d59-adf7-4739-a28a-ddd0e5b98d40",
   "metadata": {},
   "source": [
    "---\n",
    "\n",
    "### **Data Analysis**\n",
    "\n",
    "* **Sales by channel**: Reatail\n",
    "* **Top sales person**: Carla Ferreira\n",
    "\n"
   ]
  }
 ],
 "metadata": {
  "kernelspec": {
   "display_name": "Python 3 (ipykernel)",
   "language": "python",
   "name": "python3"
  },
  "language_info": {
   "codemirror_mode": {
    "name": "ipython",
    "version": 3
   },
   "file_extension": ".py",
   "mimetype": "text/x-python",
   "name": "python",
   "nbconvert_exporter": "python",
   "pygments_lexer": "ipython3",
   "version": "3.12.7"
  }
 },
 "nbformat": 4,
 "nbformat_minor": 5
}
